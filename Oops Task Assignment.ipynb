{
 "cells": [
  {
   "cell_type": "code",
   "execution_count": 3,
   "id": "76014828-2d8f-4eea-896d-eb38a7d8dcba",
   "metadata": {},
   "outputs": [],
   "source": [
    "# Ques 1: Create a vehicle class with an init method having instance variables as name_of_vehicle, max_speed\n",
    "# and average_of_vehicle.\n",
    "\n",
    "# SOLUTION:\n",
    "    \n",
    "class Vehicle:\n",
    "    def __init__(self, name_of_vehicle, max_speed, average_of_vehicle):\n",
    "        self.name_of_vehicle = name_of_vehicle\n",
    "        self.max_speed = max_speed\n",
    "        self.average_of_vehicle = average_of_vehicle\n"
   ]
  },
  {
   "cell_type": "code",
   "execution_count": 7,
   "id": "9fffd139-842b-48c8-ad79-d50c27b2e82a",
   "metadata": {},
   "outputs": [
    {
     "name": "stdout",
     "output_type": "stream",
     "text": [
      "The Sedan Car has a seating capacity of 4 passengers.\n"
     ]
    }
   ],
   "source": [
    "# Ques 2: Create a child class car from the vehicle class created in Que 1, which will inherit the vehicle class.\n",
    "# Create a method named seating_capacity which takes capacity as an argument and returns the name of\n",
    "# the vehicle and its seating capacity.\n",
    "\n",
    "# SOLUTION:\n",
    "    \n",
    "class Vehicle:\n",
    "    def __init__(self, name_of_vehicle, max_speed, average_speed):\n",
    "        self.name_of_vehicle = name_of_vehicle\n",
    "        self.max_speed = max_speed\n",
    "        self.average_speed = average_speed\n",
    "\n",
    "class Car(Vehicle):\n",
    "    def __init__(self, name_of_vehicle, max_speed, average_speed):\n",
    "        super().__init__(name_of_vehicle, max_speed, average_speed)\n",
    "\n",
    "    def seating_capacity(self, capacity):\n",
    "        return f\"The {self.name_of_vehicle} has a seating capacity of {capacity} passengers.\"\n",
    "\n",
    "# Create a Car instance and call the seating_capacity method\n",
    "car = Car(\"Sedan Car\", 160, 30)\n",
    "capacity = 4\n",
    "result = car.seating_capacity(capacity)\n",
    "print(result)\n"
   ]
  },
  {
   "cell_type": "code",
   "execution_count": 9,
   "id": "2f4f6165-778b-4445-b94f-be61369d5b48",
   "metadata": {},
   "outputs": [
    {
     "name": "stdout",
     "output_type": "stream",
     "text": [
      "Method from Parent1\n",
      "Method from Parent2\n",
      "Method from Child\n"
     ]
    }
   ],
   "source": [
    "# Ques 3: What is multiple inheritance? Write a python code to demonstrate multiple inheritance.\n",
    "\n",
    "# SOLUTION:\n",
    "    \n",
    "# Multiple inheritance is a feature in object-oriented programming where a class can inherit attributes and methods from more than\n",
    "# one parent class.\n",
    "\n",
    "# Source code to see multiple inheritamce :\n",
    "\n",
    "class Parent1:\n",
    "    def test1(self):\n",
    "        print(\"Method from Parent1\")\n",
    "\n",
    "class Parent2:\n",
    "    def test2(self):\n",
    "        print(\"Method from Parent2\")\n",
    "\n",
    "class Child(Parent1, Parent2):\n",
    "    def test3(self):\n",
    "        print(\"Method from Child\")\n",
    "\n",
    "child_instance = Child()\n",
    "child_instance.test1()\n",
    "child_instance.test2()\n",
    "child_instance.test3()\n",
    "\n"
   ]
  },
  {
   "cell_type": "code",
   "execution_count": 13,
   "id": "cccc91ca-6e1d-4bfd-acf1-7aec592f178a",
   "metadata": {},
   "outputs": [
    {
     "name": "stdout",
     "output_type": "stream",
     "text": [
      "GAURAV\n",
      "PARAS\n",
      "20\n",
      "18\n"
     ]
    }
   ],
   "source": [
    "# Ques 4: What are getter and setter in python? Create a class and create a getter and a setter method in this\n",
    "# class.\n",
    "\n",
    "# SOLUTION:\n",
    "    \n",
    "# Getter and setter methods in Python are used to control access to an object's attributes. \n",
    "\n",
    "class Student:\n",
    "    def __init__(self, name, age):\n",
    "        self._name = name\n",
    "        self._age = age\n",
    "\n",
    "    def get_name(self):\n",
    "        return self._name\n",
    "\n",
    "    def set_name(self, name):\n",
    "        if len(name) < 50:\n",
    "            self._name = name\n",
    "\n",
    "    def get_age(self):\n",
    "        return self._age\n",
    "\n",
    "    def set_age(self, age):\n",
    "        if 0 < age < 120:\n",
    "            self._age = age\n",
    "\n",
    "# Create a Student object\n",
    "student = Student(\"GAURAV\" , 20)\n",
    "\n",
    "# Using getter and setter methods\n",
    "print(student.get_name())\n",
    "student.set_name(\"PARAS\")\n",
    "print(student.get_name())\n",
    "print(student.get_age())\n",
    "student.set_age(18)\n",
    "print(student.get_age())\n"
   ]
  },
  {
   "cell_type": "code",
   "execution_count": null,
   "id": "eb31fad5-b8f3-44f8-80a7-8d4b84eeef4f",
   "metadata": {},
   "outputs": [],
   "source": [
    "Ques 5: What is method overriding in python? Write a python code to demonstrate method overriding."
   ]
  }
 ],
 "metadata": {
  "kernelspec": {
   "display_name": "Python 3 (ipykernel)",
   "language": "python",
   "name": "python3"
  },
  "language_info": {
   "codemirror_mode": {
    "name": "ipython",
    "version": 3
   },
   "file_extension": ".py",
   "mimetype": "text/x-python",
   "name": "python",
   "nbconvert_exporter": "python",
   "pygments_lexer": "ipython3",
   "version": "3.10.8"
  }
 },
 "nbformat": 4,
 "nbformat_minor": 5
}
